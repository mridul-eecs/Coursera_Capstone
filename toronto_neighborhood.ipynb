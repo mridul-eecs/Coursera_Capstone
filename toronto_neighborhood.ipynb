{
 "cells": [
  {
   "cell_type": "code",
   "execution_count": 198,
   "metadata": {},
   "outputs": [],
   "source": [
    "from bs4 import BeautifulSoup as Soup\n",
    "import urllib.request\n",
    "import requests\n",
    "import numpy as np\n",
    "import pandas as pd\n",
    "import re"
   ]
  },
  {
   "cell_type": "code",
   "execution_count": 199,
   "metadata": {},
   "outputs": [],
   "source": [
    "url= \"https://en.wikipedia.org/wiki/List_of_postal_codes_of_Canada:_M\"\n",
    "page = urllib.request.urlopen(url)\n",
    "soup= Soup(page, \"html.parser\")"
   ]
  },
  {
   "cell_type": "code",
   "execution_count": 200,
   "metadata": {},
   "outputs": [
    {
     "name": "stdout",
     "output_type": "stream",
     "text": [
      "['Postcode', 'Borough', 'Neighbourhood']\n"
     ]
    }
   ],
   "source": [
    "#https://stackoverflow.com/questions/33766740/beautifulsoup-find-table-with-specified-class-on-wikipedia-page\n",
    "\n",
    "tab = soup.find(\"table\",{\"class\":\"wikitable sortable\"})\n",
    "columns= [i.getText().split('\\n')[0] for i in tab.findAll(\"th\")]\n",
    "print(columns)"
   ]
  },
  {
   "cell_type": "code",
   "execution_count": 201,
   "metadata": {},
   "outputs": [],
   "source": [
    "alldata= np.array([i.getText().split('\\n')[0] for i in tab.findAll(\"td\")])\n",
    "rows= alldata.reshape(287, 3)"
   ]
  },
  {
   "cell_type": "code",
   "execution_count": 202,
   "metadata": {},
   "outputs": [
    {
     "data": {
      "text/html": [
       "<div>\n",
       "<style scoped>\n",
       "    .dataframe tbody tr th:only-of-type {\n",
       "        vertical-align: middle;\n",
       "    }\n",
       "\n",
       "    .dataframe tbody tr th {\n",
       "        vertical-align: top;\n",
       "    }\n",
       "\n",
       "    .dataframe thead th {\n",
       "        text-align: right;\n",
       "    }\n",
       "</style>\n",
       "<table border=\"1\" class=\"dataframe\">\n",
       "  <thead>\n",
       "    <tr style=\"text-align: right;\">\n",
       "      <th></th>\n",
       "      <th>Postcode</th>\n",
       "      <th>Borough</th>\n",
       "      <th>Neighbourhood</th>\n",
       "    </tr>\n",
       "  </thead>\n",
       "  <tbody>\n",
       "    <tr>\n",
       "      <td>0</td>\n",
       "      <td>M1A</td>\n",
       "      <td>Not assigned</td>\n",
       "      <td>Not assigned</td>\n",
       "    </tr>\n",
       "    <tr>\n",
       "      <td>1</td>\n",
       "      <td>M2A</td>\n",
       "      <td>Not assigned</td>\n",
       "      <td>Not assigned</td>\n",
       "    </tr>\n",
       "    <tr>\n",
       "      <td>2</td>\n",
       "      <td>M3A</td>\n",
       "      <td>North York</td>\n",
       "      <td>Parkwoods</td>\n",
       "    </tr>\n",
       "    <tr>\n",
       "      <td>3</td>\n",
       "      <td>M4A</td>\n",
       "      <td>North York</td>\n",
       "      <td>Victoria Village</td>\n",
       "    </tr>\n",
       "    <tr>\n",
       "      <td>4</td>\n",
       "      <td>M5A</td>\n",
       "      <td>Downtown Toronto</td>\n",
       "      <td>Harbourfront</td>\n",
       "    </tr>\n",
       "  </tbody>\n",
       "</table>\n",
       "</div>"
      ],
      "text/plain": [
       "  Postcode           Borough     Neighbourhood\n",
       "0      M1A      Not assigned      Not assigned\n",
       "1      M2A      Not assigned      Not assigned\n",
       "2      M3A        North York         Parkwoods\n",
       "3      M4A        North York  Victoria Village\n",
       "4      M5A  Downtown Toronto      Harbourfront"
      ]
     },
     "execution_count": 202,
     "metadata": {},
     "output_type": "execute_result"
    }
   ],
   "source": [
    "df= pd.DataFrame(data= rows, columns= columns)\n",
    "df.head()"
   ]
  },
  {
   "cell_type": "code",
   "execution_count": 203,
   "metadata": {},
   "outputs": [
    {
     "data": {
      "text/plain": [
       "(210, 3)"
      ]
     },
     "execution_count": 203,
     "metadata": {},
     "output_type": "execute_result"
    }
   ],
   "source": [
    "df= df.where(df['Borough'] != 'Not assigned').dropna()\n",
    "df.shape"
   ]
  },
  {
   "cell_type": "code",
   "execution_count": 204,
   "metadata": {},
   "outputs": [],
   "source": [
    "# for the not assigned neighbourhood neighbourhood= borough"
   ]
  },
  {
   "cell_type": "code",
   "execution_count": 205,
   "metadata": {},
   "outputs": [],
   "source": [
    "df['Neighbourhood']= np.where(df['Neighbourhood'] == 'Not assigned', df['Borough'], df['Neighbourhood'])"
   ]
  },
  {
   "cell_type": "code",
   "execution_count": 208,
   "metadata": {},
   "outputs": [
    {
     "data": {
      "text/html": [
       "<div>\n",
       "<style scoped>\n",
       "    .dataframe tbody tr th:only-of-type {\n",
       "        vertical-align: middle;\n",
       "    }\n",
       "\n",
       "    .dataframe tbody tr th {\n",
       "        vertical-align: top;\n",
       "    }\n",
       "\n",
       "    .dataframe thead th {\n",
       "        text-align: right;\n",
       "    }\n",
       "</style>\n",
       "<table border=\"1\" class=\"dataframe\">\n",
       "  <thead>\n",
       "    <tr style=\"text-align: right;\">\n",
       "      <th></th>\n",
       "      <th>Postcode</th>\n",
       "      <th>Borough</th>\n",
       "      <th>Neighbourhood</th>\n",
       "    </tr>\n",
       "  </thead>\n",
       "  <tbody>\n",
       "  </tbody>\n",
       "</table>\n",
       "</div>"
      ],
      "text/plain": [
       "Empty DataFrame\n",
       "Columns: [Postcode, Borough, Neighbourhood]\n",
       "Index: []"
      ]
     },
     "execution_count": 208,
     "metadata": {},
     "output_type": "execute_result"
    }
   ],
   "source": [
    "df[df['Neighbourhood'] == 'Not assigned']"
   ]
  },
  {
   "cell_type": "code",
   "execution_count": 206,
   "metadata": {},
   "outputs": [
    {
     "data": {
      "text/html": [
       "<div>\n",
       "<style scoped>\n",
       "    .dataframe tbody tr th:only-of-type {\n",
       "        vertical-align: middle;\n",
       "    }\n",
       "\n",
       "    .dataframe tbody tr th {\n",
       "        vertical-align: top;\n",
       "    }\n",
       "\n",
       "    .dataframe thead th {\n",
       "        text-align: right;\n",
       "    }\n",
       "</style>\n",
       "<table border=\"1\" class=\"dataframe\">\n",
       "  <thead>\n",
       "    <tr style=\"text-align: right;\">\n",
       "      <th></th>\n",
       "      <th>Postcode</th>\n",
       "      <th>Borough</th>\n",
       "      <th>Neighbourhood</th>\n",
       "    </tr>\n",
       "  </thead>\n",
       "  <tbody>\n",
       "    <tr>\n",
       "      <td>2</td>\n",
       "      <td>M3A</td>\n",
       "      <td>North York</td>\n",
       "      <td>Parkwoods</td>\n",
       "    </tr>\n",
       "    <tr>\n",
       "      <td>3</td>\n",
       "      <td>M4A</td>\n",
       "      <td>North York</td>\n",
       "      <td>Victoria Village</td>\n",
       "    </tr>\n",
       "    <tr>\n",
       "      <td>4</td>\n",
       "      <td>M5A</td>\n",
       "      <td>Downtown Toronto</td>\n",
       "      <td>Harbourfront</td>\n",
       "    </tr>\n",
       "    <tr>\n",
       "      <td>5</td>\n",
       "      <td>M6A</td>\n",
       "      <td>North York</td>\n",
       "      <td>Lawrence Heights</td>\n",
       "    </tr>\n",
       "    <tr>\n",
       "      <td>6</td>\n",
       "      <td>M6A</td>\n",
       "      <td>North York</td>\n",
       "      <td>Lawrence Manor</td>\n",
       "    </tr>\n",
       "  </tbody>\n",
       "</table>\n",
       "</div>"
      ],
      "text/plain": [
       "  Postcode           Borough     Neighbourhood\n",
       "2      M3A        North York         Parkwoods\n",
       "3      M4A        North York  Victoria Village\n",
       "4      M5A  Downtown Toronto      Harbourfront\n",
       "5      M6A        North York  Lawrence Heights\n",
       "6      M6A        North York    Lawrence Manor"
      ]
     },
     "execution_count": 206,
     "metadata": {},
     "output_type": "execute_result"
    }
   ],
   "source": [
    "df.head()"
   ]
  },
  {
   "cell_type": "code",
   "execution_count": 207,
   "metadata": {},
   "outputs": [
    {
     "data": {
      "text/plain": [
       "(210, 3)"
      ]
     },
     "execution_count": 207,
     "metadata": {},
     "output_type": "execute_result"
    }
   ],
   "source": [
    "df.shape"
   ]
  },
  {
   "cell_type": "markdown",
   "metadata": {},
   "source": [
    "### Stage 2: Geocoding"
   ]
  },
  {
   "cell_type": "code",
   "execution_count": 209,
   "metadata": {},
   "outputs": [
    {
     "name": "stdout",
     "output_type": "stream",
     "text": [
      "--2020-02-01 12:11:54--  https://cocl.us/Geospatial_data\n",
      "Resolving cocl.us (cocl.us)... 119.81.168.76, 119.81.168.75, 161.202.50.39\n",
      "Connecting to cocl.us (cocl.us)|119.81.168.76|:443... connected.\n",
      "HTTP request sent, awaiting response... 301 Moved Permanently\n",
      "Location: https://ibm.box.com/shared/static/9afzr83pps4pwf2smjjcf1y5mvgb18rr.csv [following]\n",
      "--2020-02-01 12:11:58--  https://ibm.box.com/shared/static/9afzr83pps4pwf2smjjcf1y5mvgb18rr.csv\n",
      "Resolving ibm.box.com (ibm.box.com)... 103.116.4.197\n",
      "Connecting to ibm.box.com (ibm.box.com)|103.116.4.197|:443... connected.\n",
      "HTTP request sent, awaiting response... 301 Moved Permanently\n",
      "Location: /public/static/9afzr83pps4pwf2smjjcf1y5mvgb18rr.csv [following]\n",
      "--2020-02-01 12:11:59--  https://ibm.box.com/public/static/9afzr83pps4pwf2smjjcf1y5mvgb18rr.csv\n",
      "Reusing existing connection to ibm.box.com:443.\n",
      "HTTP request sent, awaiting response... 301 Moved Permanently\n",
      "Location: https://ibm.ent.box.com/public/static/9afzr83pps4pwf2smjjcf1y5mvgb18rr.csv [following]\n",
      "--2020-02-01 12:12:00--  https://ibm.ent.box.com/public/static/9afzr83pps4pwf2smjjcf1y5mvgb18rr.csv\n",
      "Resolving ibm.ent.box.com (ibm.ent.box.com)... 103.116.4.211\n",
      "Connecting to ibm.ent.box.com (ibm.ent.box.com)|103.116.4.211|:443... connected.\n",
      "HTTP request sent, awaiting response... 302 Found\n",
      "Location: https://public.boxcloud.com/d/1/b1!VUzaK-RVwQAY9KtZe3Ycc67RHB7da1leyisQGvlrOjs4BrwNuKsVlaaug8s01Wb01pJTvhHKykLtkFdDI_Y11R4VI6kXve0FQtTVq1JjFoUulHekBW9_UB3PhvlFwXRpCSro9uQjJfxy1aC-vfqZhiccxKgMi7ku95K_zWFIk74hSpOYXcYQjnagtLae8X1R5PTEYHVkWBy6CKwDnDJ3QBi2TRl900BglvXMbEd55xn6MRNLEheByu2ZhKkBaMiJZfwTFlddtdGS6KaPYy_o0ClTyR1H71lXoNJblB6caNm3o6ngsAP6PR-cQGyClQGEckq5tCX3zf6pD1g2tjlxZ2a0cZQ_F2slC4sV9Z5W6jEuZY4FrFvyegVl1lp4dKg2y8NfZ7BEertnC8y3RjMqRS7mGIxr7GabW1TdWeY2R8Li7a0IZ8hQ28TBILnsLSh4ADnn_CzyUH4lvuF93xMd9MXZkF0RRuFxxJvJf23MH28BSFHo953KD7ZVqqaiaQbXs5Ip_5xzfpi5Z9J9xAR4qvYX_oQ2tKW5ZqLX_9wzRw7hShfEyG5v82d4qF05vTxhWwCBXkZY59Zom4ltfOkiIWsBr4ER8Av-IwQprbeInY_cEtMZ56Wwz0tsGGY45fh0T2TRgUz2aNFzEDsJJEznBtFudwfNcsjtpaVvoUxVzHAp3DrOiXH5NMDAOee8JT4-1p2iVkXHSUwLjo5Y3oLHfAd5TDHJST9dj4KjT3UkPgtnoosQq5ebOfVz7lcJyPs1fnL-8iQeTpnP0Vzva5V_8F03BdQm9G8-DkRAxX8PpCPv77nOjNVUCPEKCxXBdztvXty-W2rYXjjjpH19uuztD98OzcqondhSmVpBS8-PSaVWzIdhk3dYv-PpCz-ev-dXmI13WvCWJ26ObUcsv9axNiAFdt4N-BgOFy0rwSmDfZX8tOR2V-601Oc2JfRzCS9xbfmUp_6AT1_8gwjpWD6zpvyKzrgMyIx9P5W39EQ_aa3zOr0UgRWEKRF1qHT8GsYZhN7GptI5bWED63SyyRofgHt_GCWbJwVeFhYjn40o0iWgYm5-TzyIVEWrXxKgC2hphL2w_KgCzLLezhnHS9GEudtaub1cCDDzBcB1vDmUo-MJCvjA1w_yJepjVHdQfA-pokHmg3uPIZ7WJk9XszIt8CPvNKtzKpvZK0Et0yg5CyeDqEG3PMzWbMPjlHzpxSAQ1_DCD0Xg35z781fizJZ_GwyVjBYoIHHeDT45WU9JCsOM2AgIMoRgo9_GS7tqlNApWQpsqbtn0wF9HCGLCyXC4RlrpzqxJhPGRc0Xc1CcvqV_z2dvPPiBVDWBkyLyXxyKi-u-_lFzU4VQQuYLHQNbuqNRksz74aqWBqIQcaxMG1Blf9Uk9_CyUhaOFFA./download [following]\n",
      "--2020-02-01 12:12:02--  https://public.boxcloud.com/d/1/b1!VUzaK-RVwQAY9KtZe3Ycc67RHB7da1leyisQGvlrOjs4BrwNuKsVlaaug8s01Wb01pJTvhHKykLtkFdDI_Y11R4VI6kXve0FQtTVq1JjFoUulHekBW9_UB3PhvlFwXRpCSro9uQjJfxy1aC-vfqZhiccxKgMi7ku95K_zWFIk74hSpOYXcYQjnagtLae8X1R5PTEYHVkWBy6CKwDnDJ3QBi2TRl900BglvXMbEd55xn6MRNLEheByu2ZhKkBaMiJZfwTFlddtdGS6KaPYy_o0ClTyR1H71lXoNJblB6caNm3o6ngsAP6PR-cQGyClQGEckq5tCX3zf6pD1g2tjlxZ2a0cZQ_F2slC4sV9Z5W6jEuZY4FrFvyegVl1lp4dKg2y8NfZ7BEertnC8y3RjMqRS7mGIxr7GabW1TdWeY2R8Li7a0IZ8hQ28TBILnsLSh4ADnn_CzyUH4lvuF93xMd9MXZkF0RRuFxxJvJf23MH28BSFHo953KD7ZVqqaiaQbXs5Ip_5xzfpi5Z9J9xAR4qvYX_oQ2tKW5ZqLX_9wzRw7hShfEyG5v82d4qF05vTxhWwCBXkZY59Zom4ltfOkiIWsBr4ER8Av-IwQprbeInY_cEtMZ56Wwz0tsGGY45fh0T2TRgUz2aNFzEDsJJEznBtFudwfNcsjtpaVvoUxVzHAp3DrOiXH5NMDAOee8JT4-1p2iVkXHSUwLjo5Y3oLHfAd5TDHJST9dj4KjT3UkPgtnoosQq5ebOfVz7lcJyPs1fnL-8iQeTpnP0Vzva5V_8F03BdQm9G8-DkRAxX8PpCPv77nOjNVUCPEKCxXBdztvXty-W2rYXjjjpH19uuztD98OzcqondhSmVpBS8-PSaVWzIdhk3dYv-PpCz-ev-dXmI13WvCWJ26ObUcsv9axNiAFdt4N-BgOFy0rwSmDfZX8tOR2V-601Oc2JfRzCS9xbfmUp_6AT1_8gwjpWD6zpvyKzrgMyIx9P5W39EQ_aa3zOr0UgRWEKRF1qHT8GsYZhN7GptI5bWED63SyyRofgHt_GCWbJwVeFhYjn40o0iWgYm5-TzyIVEWrXxKgC2hphL2w_KgCzLLezhnHS9GEudtaub1cCDDzBcB1vDmUo-MJCvjA1w_yJepjVHdQfA-pokHmg3uPIZ7WJk9XszIt8CPvNKtzKpvZK0Et0yg5CyeDqEG3PMzWbMPjlHzpxSAQ1_DCD0Xg35z781fizJZ_GwyVjBYoIHHeDT45WU9JCsOM2AgIMoRgo9_GS7tqlNApWQpsqbtn0wF9HCGLCyXC4RlrpzqxJhPGRc0Xc1CcvqV_z2dvPPiBVDWBkyLyXxyKi-u-_lFzU4VQQuYLHQNbuqNRksz74aqWBqIQcaxMG1Blf9Uk9_CyUhaOFFA./download\n",
      "Resolving public.boxcloud.com (public.boxcloud.com)... 103.116.4.200\n",
      "Connecting to public.boxcloud.com (public.boxcloud.com)|103.116.4.200|:443... connected.\n",
      "HTTP request sent, awaiting response... 200 OK\n",
      "Length: 2891 (2.8K) [text/csv]\n",
      "Saving to: ‘Geospatial_data.3’\n",
      "\n",
      "Geospatial_data.3   100%[===================>]   2.82K  --.-KB/s    in 0s      \n",
      "\n",
      "2020-02-01 12:12:03 (317 MB/s) - ‘Geospatial_data.3’ saved [2891/2891]\n",
      "\n"
     ]
    }
   ],
   "source": [
    "!wget https://cocl.us/Geospatial_data"
   ]
  },
  {
   "cell_type": "code",
   "execution_count": 210,
   "metadata": {},
   "outputs": [
    {
     "data": {
      "text/html": [
       "<div>\n",
       "<style scoped>\n",
       "    .dataframe tbody tr th:only-of-type {\n",
       "        vertical-align: middle;\n",
       "    }\n",
       "\n",
       "    .dataframe tbody tr th {\n",
       "        vertical-align: top;\n",
       "    }\n",
       "\n",
       "    .dataframe thead th {\n",
       "        text-align: right;\n",
       "    }\n",
       "</style>\n",
       "<table border=\"1\" class=\"dataframe\">\n",
       "  <thead>\n",
       "    <tr style=\"text-align: right;\">\n",
       "      <th></th>\n",
       "      <th>Postal Code</th>\n",
       "      <th>Latitude</th>\n",
       "      <th>Longitude</th>\n",
       "    </tr>\n",
       "  </thead>\n",
       "  <tbody>\n",
       "    <tr>\n",
       "      <td>0</td>\n",
       "      <td>M1B</td>\n",
       "      <td>43.806686</td>\n",
       "      <td>-79.194353</td>\n",
       "    </tr>\n",
       "    <tr>\n",
       "      <td>1</td>\n",
       "      <td>M1C</td>\n",
       "      <td>43.784535</td>\n",
       "      <td>-79.160497</td>\n",
       "    </tr>\n",
       "    <tr>\n",
       "      <td>2</td>\n",
       "      <td>M1E</td>\n",
       "      <td>43.763573</td>\n",
       "      <td>-79.188711</td>\n",
       "    </tr>\n",
       "    <tr>\n",
       "      <td>3</td>\n",
       "      <td>M1G</td>\n",
       "      <td>43.770992</td>\n",
       "      <td>-79.216917</td>\n",
       "    </tr>\n",
       "    <tr>\n",
       "      <td>4</td>\n",
       "      <td>M1H</td>\n",
       "      <td>43.773136</td>\n",
       "      <td>-79.239476</td>\n",
       "    </tr>\n",
       "  </tbody>\n",
       "</table>\n",
       "</div>"
      ],
      "text/plain": [
       "  Postal Code   Latitude  Longitude\n",
       "0         M1B  43.806686 -79.194353\n",
       "1         M1C  43.784535 -79.160497\n",
       "2         M1E  43.763573 -79.188711\n",
       "3         M1G  43.770992 -79.216917\n",
       "4         M1H  43.773136 -79.239476"
      ]
     },
     "execution_count": 210,
     "metadata": {},
     "output_type": "execute_result"
    }
   ],
   "source": [
    "geodf= pd.read_csv('Geospatial_data')\n",
    "geodf.head()"
   ]
  },
  {
   "cell_type": "code",
   "execution_count": null,
   "metadata": {},
   "outputs": [],
   "source": []
  },
  {
   "cell_type": "code",
   "execution_count": 211,
   "metadata": {},
   "outputs": [],
   "source": [
    "newdf= pd.merge(df, geodf, left_on='Postcode', right_on='Postal Code').rename(columns = {'Postcode':'PostalCode'}).drop(['Postal Code'], axis= 1) "
   ]
  },
  {
   "cell_type": "code",
   "execution_count": 212,
   "metadata": {
    "scrolled": true
   },
   "outputs": [
    {
     "data": {
      "text/html": [
       "<div>\n",
       "<style scoped>\n",
       "    .dataframe tbody tr th:only-of-type {\n",
       "        vertical-align: middle;\n",
       "    }\n",
       "\n",
       "    .dataframe tbody tr th {\n",
       "        vertical-align: top;\n",
       "    }\n",
       "\n",
       "    .dataframe thead th {\n",
       "        text-align: right;\n",
       "    }\n",
       "</style>\n",
       "<table border=\"1\" class=\"dataframe\">\n",
       "  <thead>\n",
       "    <tr style=\"text-align: right;\">\n",
       "      <th></th>\n",
       "      <th>PostalCode</th>\n",
       "      <th>Borough</th>\n",
       "      <th>Neighbourhood</th>\n",
       "      <th>Latitude</th>\n",
       "      <th>Longitude</th>\n",
       "    </tr>\n",
       "  </thead>\n",
       "  <tbody>\n",
       "    <tr>\n",
       "      <td>0</td>\n",
       "      <td>M3A</td>\n",
       "      <td>North York</td>\n",
       "      <td>Parkwoods</td>\n",
       "      <td>43.753259</td>\n",
       "      <td>-79.329656</td>\n",
       "    </tr>\n",
       "    <tr>\n",
       "      <td>1</td>\n",
       "      <td>M4A</td>\n",
       "      <td>North York</td>\n",
       "      <td>Victoria Village</td>\n",
       "      <td>43.725882</td>\n",
       "      <td>-79.315572</td>\n",
       "    </tr>\n",
       "    <tr>\n",
       "      <td>2</td>\n",
       "      <td>M5A</td>\n",
       "      <td>Downtown Toronto</td>\n",
       "      <td>Harbourfront</td>\n",
       "      <td>43.654260</td>\n",
       "      <td>-79.360636</td>\n",
       "    </tr>\n",
       "    <tr>\n",
       "      <td>3</td>\n",
       "      <td>M6A</td>\n",
       "      <td>North York</td>\n",
       "      <td>Lawrence Heights</td>\n",
       "      <td>43.718518</td>\n",
       "      <td>-79.464763</td>\n",
       "    </tr>\n",
       "    <tr>\n",
       "      <td>4</td>\n",
       "      <td>M6A</td>\n",
       "      <td>North York</td>\n",
       "      <td>Lawrence Manor</td>\n",
       "      <td>43.718518</td>\n",
       "      <td>-79.464763</td>\n",
       "    </tr>\n",
       "    <tr>\n",
       "      <td>...</td>\n",
       "      <td>...</td>\n",
       "      <td>...</td>\n",
       "      <td>...</td>\n",
       "      <td>...</td>\n",
       "      <td>...</td>\n",
       "    </tr>\n",
       "    <tr>\n",
       "      <td>205</td>\n",
       "      <td>M8Z</td>\n",
       "      <td>Etobicoke</td>\n",
       "      <td>Kingsway Park South West</td>\n",
       "      <td>43.628841</td>\n",
       "      <td>-79.520999</td>\n",
       "    </tr>\n",
       "    <tr>\n",
       "      <td>206</td>\n",
       "      <td>M8Z</td>\n",
       "      <td>Etobicoke</td>\n",
       "      <td>Mimico NW</td>\n",
       "      <td>43.628841</td>\n",
       "      <td>-79.520999</td>\n",
       "    </tr>\n",
       "    <tr>\n",
       "      <td>207</td>\n",
       "      <td>M8Z</td>\n",
       "      <td>Etobicoke</td>\n",
       "      <td>The Queensway West</td>\n",
       "      <td>43.628841</td>\n",
       "      <td>-79.520999</td>\n",
       "    </tr>\n",
       "    <tr>\n",
       "      <td>208</td>\n",
       "      <td>M8Z</td>\n",
       "      <td>Etobicoke</td>\n",
       "      <td>Royal York South West</td>\n",
       "      <td>43.628841</td>\n",
       "      <td>-79.520999</td>\n",
       "    </tr>\n",
       "    <tr>\n",
       "      <td>209</td>\n",
       "      <td>M8Z</td>\n",
       "      <td>Etobicoke</td>\n",
       "      <td>South of Bloor</td>\n",
       "      <td>43.628841</td>\n",
       "      <td>-79.520999</td>\n",
       "    </tr>\n",
       "  </tbody>\n",
       "</table>\n",
       "<p>210 rows × 5 columns</p>\n",
       "</div>"
      ],
      "text/plain": [
       "    PostalCode           Borough             Neighbourhood   Latitude  \\\n",
       "0          M3A        North York                 Parkwoods  43.753259   \n",
       "1          M4A        North York          Victoria Village  43.725882   \n",
       "2          M5A  Downtown Toronto              Harbourfront  43.654260   \n",
       "3          M6A        North York          Lawrence Heights  43.718518   \n",
       "4          M6A        North York            Lawrence Manor  43.718518   \n",
       "..         ...               ...                       ...        ...   \n",
       "205        M8Z         Etobicoke  Kingsway Park South West  43.628841   \n",
       "206        M8Z         Etobicoke                 Mimico NW  43.628841   \n",
       "207        M8Z         Etobicoke        The Queensway West  43.628841   \n",
       "208        M8Z         Etobicoke     Royal York South West  43.628841   \n",
       "209        M8Z         Etobicoke            South of Bloor  43.628841   \n",
       "\n",
       "     Longitude  \n",
       "0   -79.329656  \n",
       "1   -79.315572  \n",
       "2   -79.360636  \n",
       "3   -79.464763  \n",
       "4   -79.464763  \n",
       "..         ...  \n",
       "205 -79.520999  \n",
       "206 -79.520999  \n",
       "207 -79.520999  \n",
       "208 -79.520999  \n",
       "209 -79.520999  \n",
       "\n",
       "[210 rows x 5 columns]"
      ]
     },
     "execution_count": 212,
     "metadata": {},
     "output_type": "execute_result"
    }
   ],
   "source": [
    "newdf"
   ]
  },
  {
   "cell_type": "code",
   "execution_count": 213,
   "metadata": {},
   "outputs": [
    {
     "data": {
      "text/plain": [
       "(210, 5)"
      ]
     },
     "execution_count": 213,
     "metadata": {},
     "output_type": "execute_result"
    }
   ],
   "source": [
    "newdf.shape"
   ]
  },
  {
   "cell_type": "markdown",
   "metadata": {},
   "source": [
    "#### Decided to go with Boroughs with Torronto"
   ]
  },
  {
   "cell_type": "code",
   "execution_count": 214,
   "metadata": {},
   "outputs": [
    {
     "data": {
      "text/html": [
       "<div>\n",
       "<style scoped>\n",
       "    .dataframe tbody tr th:only-of-type {\n",
       "        vertical-align: middle;\n",
       "    }\n",
       "\n",
       "    .dataframe tbody tr th {\n",
       "        vertical-align: top;\n",
       "    }\n",
       "\n",
       "    .dataframe thead th {\n",
       "        text-align: right;\n",
       "    }\n",
       "</style>\n",
       "<table border=\"1\" class=\"dataframe\">\n",
       "  <thead>\n",
       "    <tr style=\"text-align: right;\">\n",
       "      <th></th>\n",
       "      <th>PostalCode</th>\n",
       "      <th>Borough</th>\n",
       "      <th>Neighbourhood</th>\n",
       "      <th>Latitude</th>\n",
       "      <th>Longitude</th>\n",
       "    </tr>\n",
       "  </thead>\n",
       "  <tbody>\n",
       "    <tr>\n",
       "      <td>2</td>\n",
       "      <td>M5A</td>\n",
       "      <td>Downtown Toronto</td>\n",
       "      <td>Harbourfront</td>\n",
       "      <td>43.654260</td>\n",
       "      <td>-79.360636</td>\n",
       "    </tr>\n",
       "    <tr>\n",
       "      <td>5</td>\n",
       "      <td>M7A</td>\n",
       "      <td>Downtown Toronto</td>\n",
       "      <td>Queen's Park</td>\n",
       "      <td>43.662301</td>\n",
       "      <td>-79.389494</td>\n",
       "    </tr>\n",
       "    <tr>\n",
       "      <td>12</td>\n",
       "      <td>M5B</td>\n",
       "      <td>Downtown Toronto</td>\n",
       "      <td>Ryerson</td>\n",
       "      <td>43.657162</td>\n",
       "      <td>-79.378937</td>\n",
       "    </tr>\n",
       "    <tr>\n",
       "      <td>13</td>\n",
       "      <td>M5B</td>\n",
       "      <td>Downtown Toronto</td>\n",
       "      <td>Garden District</td>\n",
       "      <td>43.657162</td>\n",
       "      <td>-79.378937</td>\n",
       "    </tr>\n",
       "    <tr>\n",
       "      <td>26</td>\n",
       "      <td>M5C</td>\n",
       "      <td>Downtown Toronto</td>\n",
       "      <td>St. James Town</td>\n",
       "      <td>43.651494</td>\n",
       "      <td>-79.375418</td>\n",
       "    </tr>\n",
       "  </tbody>\n",
       "</table>\n",
       "</div>"
      ],
      "text/plain": [
       "   PostalCode           Borough    Neighbourhood   Latitude  Longitude\n",
       "2         M5A  Downtown Toronto     Harbourfront  43.654260 -79.360636\n",
       "5         M7A  Downtown Toronto     Queen's Park  43.662301 -79.389494\n",
       "12        M5B  Downtown Toronto          Ryerson  43.657162 -79.378937\n",
       "13        M5B  Downtown Toronto  Garden District  43.657162 -79.378937\n",
       "26        M5C  Downtown Toronto   St. James Town  43.651494 -79.375418"
      ]
     },
     "execution_count": 214,
     "metadata": {},
     "output_type": "execute_result"
    }
   ],
   "source": [
    "toronto = newdf.where(newdf['Borough'].str.contains('Toronto') ).dropna()\n",
    "toronto.head()"
   ]
  },
  {
   "cell_type": "code",
   "execution_count": null,
   "metadata": {},
   "outputs": [],
   "source": []
  },
  {
   "cell_type": "code",
   "execution_count": 215,
   "metadata": {},
   "outputs": [
    {
     "data": {
      "image/png": "[encoded data removed]",
      "text/plain": [
       "<Figure size 432x288 with 1 Axes>"
      ]
     },
     "metadata": {
      "needs_background": "light"
     },
     "output_type": "display_data"
    }
   ],
   "source": [
    "import matplotlib.pyplot as plt\n",
    "\n",
    "plt.scatter(toronto['Latitude'], toronto['Longitude'])\n",
    "plt.show()"
   ]
  },
  {
   "cell_type": "code",
   "execution_count": 216,
   "metadata": {},
   "outputs": [],
   "source": [
    "from sklearn.cluster import KMeans"
   ]
  },
  {
   "cell_type": "code",
   "execution_count": 217,
   "metadata": {},
   "outputs": [],
   "source": [
    "kmeans= KMeans(n_clusters=5)\n",
    "model= kmeans.fit(toronto[['Latitude', 'Longitude']])\n",
    "toronto['Labels']= model.labels_"
   ]
  },
  {
   "cell_type": "code",
   "execution_count": 218,
   "metadata": {},
   "outputs": [
    {
     "data": {
      "text/plain": [
       "(74, 6)"
      ]
     },
     "execution_count": 218,
     "metadata": {},
     "output_type": "execute_result"
    }
   ],
   "source": [
    "toronto.shape"
   ]
  },
  {
   "cell_type": "code",
   "execution_count": 219,
   "metadata": {
    "scrolled": true
   },
   "outputs": [
    {
     "data": {
      "text/html": [
       "<div style=\"width:100%;\"><div style=\"position:relative;width:100%;height:0;padding-bottom:60%;\"><iframe src=\"data:text/html;charset=utf-8;base64,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\" style=\"position:absolute;width:100%;height:100%;left:0;top:0;border:none !important;\" allowfullscreen webkitallowfullscreen mozallowfullscreen></iframe></div></div>"
      ],
      "text/plain": [
       "<folium.folium.Map at 0x7f4d624ca890>"
      ]
     },
     "execution_count": 219,
     "metadata": {},
     "output_type": "execute_result"
    }
   ],
   "source": [
    "import folium\n",
    "colors= ['red', 'blue', 'green', 'purple', 'orange']\n",
    "map_canada = folium.Map(location=[43.628841, -79.520999], zoom_start=10)\n",
    "for idx in range(toronto.shape[0]):\n",
    "    folium.CircleMarker(\n",
    "        toronto.iloc[idx][['Latitude', 'Longitude']],\n",
    "        radius=2,\n",
    "        popup=toronto.iloc[idx]['Borough'],\n",
    "        color=colors[toronto.iloc[idx]['Labels']],\n",
    "        fill=True,\n",
    "        fill_color='#3186cc',\n",
    "        fill_opacity=0.7,\n",
    "        parse_html=False).add_to(map_canada)  \n",
    "\n",
    "map_canada"
   ]
  },
  {
   "cell_type": "code",
   "execution_count": null,
   "metadata": {},
   "outputs": [],
   "source": []
  },
  {
   "cell_type": "code",
   "execution_count": null,
   "metadata": {},
   "outputs": [],
   "source": []
  }
 ],
 "metadata": {
  "kernelspec": {
   "display_name": "Python 3.7.4 64-bit ('base': conda)",
   "language": "python",
   "name": "python37464bitbaseconda5d95dfd00f23454e9e2113a2b618d788"
  },
  "language_info": {
   "codemirror_mode": {
    "name": "ipython",
    "version": 3
   },
   "file_extension": ".py",
   "mimetype": "text/x-python",
   "name": "python",
   "nbconvert_exporter": "python",
   "pygments_lexer": "ipython3",
   "version": "3.7.4"
  }
 },
 "nbformat": 4,
 "nbformat_minor": 2
}
