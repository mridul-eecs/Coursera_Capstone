{
 "cells": [
  {
   "cell_type": "code",
   "execution_count": 198,
   "metadata": {},
   "outputs": [],
   "source": [
    "from bs4 import BeautifulSoup as Soup\n",
    "import urllib.request\n",
    "import requests\n",
    "import numpy as np\n",
    "import pandas as pd\n",
    "import re"
   ]
  },
  {
   "cell_type": "code",
   "execution_count": 199,
   "metadata": {},
   "outputs": [],
   "source": [
    "url= \"https://en.wikipedia.org/wiki/List_of_postal_codes_of_Canada:_M\"\n",
    "page = urllib.request.urlopen(url)\n",
    "soup= Soup(page, \"html.parser\")"
   ]
  },
  {
   "cell_type": "code",
   "execution_count": 200,
   "metadata": {},
   "outputs": [
    {
     "name": "stdout",
     "output_type": "stream",
     "text": [
      "['Postcode', 'Borough', 'Neighbourhood']\n"
     ]
    }
   ],
   "source": [
    "#https://stackoverflow.com/questions/33766740/beautifulsoup-find-table-with-specified-class-on-wikipedia-page\n",
    "\n",
    "tab = soup.find(\"table\",{\"class\":\"wikitable sortable\"})\n",
    "columns= [i.getText().split('\\n')[0] for i in tab.findAll(\"th\")]\n",
    "print(columns)"
   ]
  },
  {
   "cell_type": "code",
   "execution_count": 201,
   "metadata": {},
   "outputs": [],
   "source": [
    "alldata= np.array([i.getText().split('\\n')[0] for i in tab.findAll(\"td\")])\n",
    "rows= alldata.reshape(287, 3)"
   ]
  },
  {
   "cell_type": "code",
   "execution_count": 202,
   "metadata": {},
   "outputs": [
    {
     "data": {
      "text/html": [
       "<div>\n",
       "<style scoped>\n",
       "    .dataframe tbody tr th:only-of-type {\n",
       "        vertical-align: middle;\n",
       "    }\n",
       "\n",
       "    .dataframe tbody tr th {\n",
       "        vertical-align: top;\n",
       "    }\n",
       "\n",
       "    .dataframe thead th {\n",
       "        text-align: right;\n",
       "    }\n",
       "</style>\n",
       "<table border=\"1\" class=\"dataframe\">\n",
       "  <thead>\n",
       "    <tr style=\"text-align: right;\">\n",
       "      <th></th>\n",
       "      <th>Postcode</th>\n",
       "      <th>Borough</th>\n",
       "      <th>Neighbourhood</th>\n",
       "    </tr>\n",
       "  </thead>\n",
       "  <tbody>\n",
       "    <tr>\n",
       "      <td>0</td>\n",
       "      <td>M1A</td>\n",
       "      <td>Not assigned</td>\n",
       "      <td>Not assigned</td>\n",
       "    </tr>\n",
       "    <tr>\n",
       "      <td>1</td>\n",
       "      <td>M2A</td>\n",
       "      <td>Not assigned</td>\n",
       "      <td>Not assigned</td>\n",
       "    </tr>\n",
       "    <tr>\n",
       "      <td>2</td>\n",
       "      <td>M3A</td>\n",
       "      <td>North York</td>\n",
       "      <td>Parkwoods</td>\n",
       "    </tr>\n",
       "    <tr>\n",
       "      <td>3</td>\n",
       "      <td>M4A</td>\n",
       "      <td>North York</td>\n",
       "      <td>Victoria Village</td>\n",
       "    </tr>\n",
       "    <tr>\n",
       "      <td>4</td>\n",
       "      <td>M5A</td>\n",
       "      <td>Downtown Toronto</td>\n",
       "      <td>Harbourfront</td>\n",
       "    </tr>\n",
       "  </tbody>\n",
       "</table>\n",
       "</div>"
      ],
      "text/plain": [
       "  Postcode           Borough     Neighbourhood\n",
       "0      M1A      Not assigned      Not assigned\n",
       "1      M2A      Not assigned      Not assigned\n",
       "2      M3A        North York         Parkwoods\n",
       "3      M4A        North York  Victoria Village\n",
       "4      M5A  Downtown Toronto      Harbourfront"
      ]
     },
     "execution_count": 202,
     "metadata": {},
     "output_type": "execute_result"
    }
   ],
   "source": [
    "df= pd.DataFrame(data= rows, columns= columns)\n",
    "df.head()"
   ]
  },
  {
   "cell_type": "code",
   "execution_count": 203,
   "metadata": {},
   "outputs": [
    {
     "data": {
      "text/plain": [
       "(210, 3)"
      ]
     },
     "execution_count": 203,
     "metadata": {},
     "output_type": "execute_result"
    }
   ],
   "source": [
    "df= df.where(df['Borough'] != 'Not assigned').dropna()\n",
    "df.shape"
   ]
  },
  {
   "cell_type": "code",
   "execution_count": 204,
   "metadata": {},
   "outputs": [],
   "source": [
    "# for the not assigned neighbourhood neighbourhood= borough"
   ]
  },
  {
   "cell_type": "code",
   "execution_count": 205,
   "metadata": {},
   "outputs": [],
   "source": [
    "df['Neighbourhood']= np.where(df['Neighbourhood'] == 'Not assigned', df['Borough'], df['Neighbourhood'])"
   ]
  },
  {
   "cell_type": "code",
   "execution_count": 208,
   "metadata": {},
   "outputs": [
    {
     "data": {
      "text/html": [
       "<div>\n",
       "<style scoped>\n",
       "    .dataframe tbody tr th:only-of-type {\n",
       "        vertical-align: middle;\n",
       "    }\n",
       "\n",
       "    .dataframe tbody tr th {\n",
       "        vertical-align: top;\n",
       "    }\n",
       "\n",
       "    .dataframe thead th {\n",
       "        text-align: right;\n",
       "    }\n",
       "</style>\n",
       "<table border=\"1\" class=\"dataframe\">\n",
       "  <thead>\n",
       "    <tr style=\"text-align: right;\">\n",
       "      <th></th>\n",
       "      <th>Postcode</th>\n",
       "      <th>Borough</th>\n",
       "      <th>Neighbourhood</th>\n",
       "    </tr>\n",
       "  </thead>\n",
       "  <tbody>\n",
       "  </tbody>\n",
       "</table>\n",
       "</div>"
      ],
      "text/plain": [
       "Empty DataFrame\n",
       "Columns: [Postcode, Borough, Neighbourhood]\n",
       "Index: []"
      ]
     },
     "execution_count": 208,
     "metadata": {},
     "output_type": "execute_result"
    }
   ],
   "source": [
    "df[df['Neighbourhood'] == 'Not assigned']"
   ]
  },
  {
   "cell_type": "code",
   "execution_count": 206,
   "metadata": {},
   "outputs": [
    {
     "data": {
      "text/html": [
       "<div>\n",
       "<style scoped>\n",
       "    .dataframe tbody tr th:only-of-type {\n",
       "        vertical-align: middle;\n",
       "    }\n",
       "\n",
       "    .dataframe tbody tr th {\n",
       "        vertical-align: top;\n",
       "    }\n",
       "\n",
       "    .dataframe thead th {\n",
       "        text-align: right;\n",
       "    }\n",
       "</style>\n",
       "<table border=\"1\" class=\"dataframe\">\n",
       "  <thead>\n",
       "    <tr style=\"text-align: right;\">\n",
       "      <th></th>\n",
       "      <th>Postcode</th>\n",
       "      <th>Borough</th>\n",
       "      <th>Neighbourhood</th>\n",
       "    </tr>\n",
       "  </thead>\n",
       "  <tbody>\n",
       "    <tr>\n",
       "      <td>2</td>\n",
       "      <td>M3A</td>\n",
       "      <td>North York</td>\n",
       "      <td>Parkwoods</td>\n",
       "    </tr>\n",
       "    <tr>\n",
       "      <td>3</td>\n",
       "      <td>M4A</td>\n",
       "      <td>North York</td>\n",
       "      <td>Victoria Village</td>\n",
       "    </tr>\n",
       "    <tr>\n",
       "      <td>4</td>\n",
       "      <td>M5A</td>\n",
       "      <td>Downtown Toronto</td>\n",
       "      <td>Harbourfront</td>\n",
       "    </tr>\n",
       "    <tr>\n",
       "      <td>5</td>\n",
       "      <td>M6A</td>\n",
       "      <td>North York</td>\n",
       "      <td>Lawrence Heights</td>\n",
       "    </tr>\n",
       "    <tr>\n",
       "      <td>6</td>\n",
       "      <td>M6A</td>\n",
       "      <td>North York</td>\n",
       "      <td>Lawrence Manor</td>\n",
       "    </tr>\n",
       "  </tbody>\n",
       "</table>\n",
       "</div>"
      ],
      "text/plain": [
       "  Postcode           Borough     Neighbourhood\n",
       "2      M3A        North York         Parkwoods\n",
       "3      M4A        North York  Victoria Village\n",
       "4      M5A  Downtown Toronto      Harbourfront\n",
       "5      M6A        North York  Lawrence Heights\n",
       "6      M6A        North York    Lawrence Manor"
      ]
     },
     "execution_count": 206,
     "metadata": {},
     "output_type": "execute_result"
    }
   ],
   "source": [
    "df.head()"
   ]
  },
  {
   "cell_type": "code",
   "execution_count": 207,
   "metadata": {},
   "outputs": [
    {
     "data": {
      "text/plain": [
       "(210, 3)"
      ]
     },
     "execution_count": 207,
     "metadata": {},
     "output_type": "execute_result"
    }
   ],
   "source": [
    "df.shape"
   ]
  },
  {
   "cell_type": "markdown",
   "metadata": {},
   "source": [
    "### Stage 2: Geocoding"
   ]
  },
  {
   "cell_type": "code",
   "execution_count": 209,
   "metadata": {},
   "outputs": [
    {
     "name": "stdout",
     "output_type": "stream",
     "text": [
      "--2020-02-01 12:11:54--  https://cocl.us/Geospatial_data\n",
      "Resolving cocl.us (cocl.us)... 119.81.168.76, 119.81.168.75, 161.202.50.39\n",
      "Connecting to cocl.us (cocl.us)|119.81.168.76|:443... connected.\n",
      "HTTP request sent, awaiting response... 301 Moved Permanently\n",
      "Location: https://ibm.box.com/shared/static/9afzr83pps4pwf2smjjcf1y5mvgb18rr.csv [following]\n",
      "--2020-02-01 12:11:58--  https://ibm.box.com/shared/static/9afzr83pps4pwf2smjjcf1y5mvgb18rr.csv\n",
      "Resolving ibm.box.com (ibm.box.com)... 103.116.4.197\n",
      "Connecting to ibm.box.com (ibm.box.com)|103.116.4.197|:443... connected.\n",
      "HTTP request sent, awaiting response... 301 Moved Permanently\n",
      "Location: /public/static/9afzr83pps4pwf2smjjcf1y5mvgb18rr.csv [following]\n",
      "--2020-02-01 12:11:59--  https://ibm.box.com/public/static/9afzr83pps4pwf2smjjcf1y5mvgb18rr.csv\n",
      "Reusing existing connection to ibm.box.com:443.\n",
      "HTTP request sent, awaiting response... 301 Moved Permanently\n",
      "Location: https://ibm.ent.box.com/public/static/9afzr83pps4pwf2smjjcf1y5mvgb18rr.csv [following]\n",
      "--2020-02-01 12:12:00--  https://ibm.ent.box.com/public/static/9afzr83pps4pwf2smjjcf1y5mvgb18rr.csv\n",
      "Resolving ibm.ent.box.com (ibm.ent.box.com)... 103.116.4.211\n",
      "Connecting to ibm.ent.box.com (ibm.ent.box.com)|103.116.4.211|:443... connected.\n",
      "HTTP request sent, awaiting response... 302 Found\n",
      "Location: https://public.boxcloud.com/d/1/b1!VUzaK-RVwQAY9KtZe3Ycc67RHB7da1leyisQGvlrOjs4BrwNuKsVlaaug8s01Wb01pJTvhHKykLtkFdDI_Y11R4VI6kXve0FQtTVq1JjFoUulHekBW9_UB3PhvlFwXRpCSro9uQjJfxy1aC-vfqZhiccxKgMi7ku95K_zWFIk74hSpOYXcYQjnagtLae8X1R5PTEYHVkWBy6CKwDnDJ3QBi2TRl900BglvXMbEd55xn6MRNLEheByu2ZhKkBaMiJZfwTFlddtdGS6KaPYy_o0ClTyR1H71lXoNJblB6caNm3o6ngsAP6PR-cQGyClQGEckq5tCX3zf6pD1g2tjlxZ2a0cZQ_F2slC4sV9Z5W6jEuZY4FrFvyegVl1lp4dKg2y8NfZ7BEertnC8y3RjMqRS7mGIxr7GabW1TdWeY2R8Li7a0IZ8hQ28TBILnsLSh4ADnn_CzyUH4lvuF93xMd9MXZkF0RRuFxxJvJf23MH28BSFHo953KD7ZVqqaiaQbXs5Ip_5xzfpi5Z9J9xAR4qvYX_oQ2tKW5ZqLX_9wzRw7hShfEyG5v82d4qF05vTxhWwCBXkZY59Zom4ltfOkiIWsBr4ER8Av-IwQprbeInY_cEtMZ56Wwz0tsGGY45fh0T2TRgUz2aNFzEDsJJEznBtFudwfNcsjtpaVvoUxVzHAp3DrOiXH5NMDAOee8JT4-1p2iVkXHSUwLjo5Y3oLHfAd5TDHJST9dj4KjT3UkPgtnoosQq5ebOfVz7lcJyPs1fnL-8iQeTpnP0Vzva5V_8F03BdQm9G8-DkRAxX8PpCPv77nOjNVUCPEKCxXBdztvXty-W2rYXjjjpH19uuztD98OzcqondhSmVpBS8-PSaVWzIdhk3dYv-PpCz-ev-dXmI13WvCWJ26ObUcsv9axNiAFdt4N-BgOFy0rwSmDfZX8tOR2V-601Oc2JfRzCS9xbfmUp_6AT1_8gwjpWD6zpvyKzrgMyIx9P5W39EQ_aa3zOr0UgRWEKRF1qHT8GsYZhN7GptI5bWED63SyyRofgHt_GCWbJwVeFhYjn40o0iWgYm5-TzyIVEWrXxKgC2hphL2w_KgCzLLezhnHS9GEudtaub1cCDDzBcB1vDmUo-MJCvjA1w_yJepjVHdQfA-pokHmg3uPIZ7WJk9XszIt8CPvNKtzKpvZK0Et0yg5CyeDqEG3PMzWbMPjlHzpxSAQ1_DCD0Xg35z781fizJZ_GwyVjBYoIHHeDT45WU9JCsOM2AgIMoRgo9_GS7tqlNApWQpsqbtn0wF9HCGLCyXC4RlrpzqxJhPGRc0Xc1CcvqV_z2dvPPiBVDWBkyLyXxyKi-u-_lFzU4VQQuYLHQNbuqNRksz74aqWBqIQcaxMG1Blf9Uk9_CyUhaOFFA./download [following]\n",
      "--2020-02-01 12:12:02--  https://public.boxcloud.com/d/1/b1!VUzaK-RVwQAY9KtZe3Ycc67RHB7da1leyisQGvlrOjs4BrwNuKsVlaaug8s01Wb01pJTvhHKykLtkFdDI_Y11R4VI6kXve0FQtTVq1JjFoUulHekBW9_UB3PhvlFwXRpCSro9uQjJfxy1aC-vfqZhiccxKgMi7ku95K_zWFIk74hSpOYXcYQjnagtLae8X1R5PTEYHVkWBy6CKwDnDJ3QBi2TRl900BglvXMbEd55xn6MRNLEheByu2ZhKkBaMiJZfwTFlddtdGS6KaPYy_o0ClTyR1H71lXoNJblB6caNm3o6ngsAP6PR-cQGyClQGEckq5tCX3zf6pD1g2tjlxZ2a0cZQ_F2slC4sV9Z5W6jEuZY4FrFvyegVl1lp4dKg2y8NfZ7BEertnC8y3RjMqRS7mGIxr7GabW1TdWeY2R8Li7a0IZ8hQ28TBILnsLSh4ADnn_CzyUH4lvuF93xMd9MXZkF0RRuFxxJvJf23MH28BSFHo953KD7ZVqqaiaQbXs5Ip_5xzfpi5Z9J9xAR4qvYX_oQ2tKW5ZqLX_9wzRw7hShfEyG5v82d4qF05vTxhWwCBXkZY59Zom4ltfOkiIWsBr4ER8Av-IwQprbeInY_cEtMZ56Wwz0tsGGY45fh0T2TRgUz2aNFzEDsJJEznBtFudwfNcsjtpaVvoUxVzHAp3DrOiXH5NMDAOee8JT4-1p2iVkXHSUwLjo5Y3oLHfAd5TDHJST9dj4KjT3UkPgtnoosQq5ebOfVz7lcJyPs1fnL-8iQeTpnP0Vzva5V_8F03BdQm9G8-DkRAxX8PpCPv77nOjNVUCPEKCxXBdztvXty-W2rYXjjjpH19uuztD98OzcqondhSmVpBS8-PSaVWzIdhk3dYv-PpCz-ev-dXmI13WvCWJ26ObUcsv9axNiAFdt4N-BgOFy0rwSmDfZX8tOR2V-601Oc2JfRzCS9xbfmUp_6AT1_8gwjpWD6zpvyKzrgMyIx9P5W39EQ_aa3zOr0UgRWEKRF1qHT8GsYZhN7GptI5bWED63SyyRofgHt_GCWbJwVeFhYjn40o0iWgYm5-TzyIVEWrXxKgC2hphL2w_KgCzLLezhnHS9GEudtaub1cCDDzBcB1vDmUo-MJCvjA1w_yJepjVHdQfA-pokHmg3uPIZ7WJk9XszIt8CPvNKtzKpvZK0Et0yg5CyeDqEG3PMzWbMPjlHzpxSAQ1_DCD0Xg35z781fizJZ_GwyVjBYoIHHeDT45WU9JCsOM2AgIMoRgo9_GS7tqlNApWQpsqbtn0wF9HCGLCyXC4RlrpzqxJhPGRc0Xc1CcvqV_z2dvPPiBVDWBkyLyXxyKi-u-_lFzU4VQQuYLHQNbuqNRksz74aqWBqIQcaxMG1Blf9Uk9_CyUhaOFFA./download\n",
      "Resolving public.boxcloud.com (public.boxcloud.com)... 103.116.4.200\n",
      "Connecting to public.boxcloud.com (public.boxcloud.com)|103.116.4.200|:443... connected.\n",
      "HTTP request sent, awaiting response... 200 OK\n",
      "Length: 2891 (2.8K) [text/csv]\n",
      "Saving to: ‘Geospatial_data.3’\n",
      "\n",
      "Geospatial_data.3   100%[===================>]   2.82K  --.-KB/s    in 0s      \n",
      "\n",
      "2020-02-01 12:12:03 (317 MB/s) - ‘Geospatial_data.3’ saved [2891/2891]\n",
      "\n"
     ]
    }
   ],
   "source": [
    "!wget https://cocl.us/Geospatial_data"
   ]
  },
  {
   "cell_type": "code",
   "execution_count": 210,
   "metadata": {},
   "outputs": [
    {
     "data": {
      "text/html": [
       "<div>\n",
       "<style scoped>\n",
       "    .dataframe tbody tr th:only-of-type {\n",
       "        vertical-align: middle;\n",
       "    }\n",
       "\n",
       "    .dataframe tbody tr th {\n",
       "        vertical-align: top;\n",
       "    }\n",
       "\n",
       "    .dataframe thead th {\n",
       "        text-align: right;\n",
       "    }\n",
       "</style>\n",
       "<table border=\"1\" class=\"dataframe\">\n",
       "  <thead>\n",
       "    <tr style=\"text-align: right;\">\n",
       "      <th></th>\n",
       "      <th>Postal Code</th>\n",
       "      <th>Latitude</th>\n",
       "      <th>Longitude</th>\n",
       "    </tr>\n",
       "  </thead>\n",
       "  <tbody>\n",
       "    <tr>\n",
       "      <td>0</td>\n",
       "      <td>M1B</td>\n",
       "      <td>43.806686</td>\n",
       "      <td>-79.194353</td>\n",
       "    </tr>\n",
       "    <tr>\n",
       "      <td>1</td>\n",
       "      <td>M1C</td>\n",
       "      <td>43.784535</td>\n",
       "      <td>-79.160497</td>\n",
       "    </tr>\n",
       "    <tr>\n",
       "      <td>2</td>\n",
       "      <td>M1E</td>\n",
       "      <td>43.763573</td>\n",
       "      <td>-79.188711</td>\n",
       "    </tr>\n",
       "    <tr>\n",
       "      <td>3</td>\n",
       "      <td>M1G</td>\n",
       "      <td>43.770992</td>\n",
       "      <td>-79.216917</td>\n",
       "    </tr>\n",
       "    <tr>\n",
       "      <td>4</td>\n",
       "      <td>M1H</td>\n",
       "      <td>43.773136</td>\n",
       "      <td>-79.239476</td>\n",
       "    </tr>\n",
       "  </tbody>\n",
       "</table>\n",
       "</div>"
      ],
      "text/plain": [
       "  Postal Code   Latitude  Longitude\n",
       "0         M1B  43.806686 -79.194353\n",
       "1         M1C  43.784535 -79.160497\n",
       "2         M1E  43.763573 -79.188711\n",
       "3         M1G  43.770992 -79.216917\n",
       "4         M1H  43.773136 -79.239476"
      ]
     },
     "execution_count": 210,
     "metadata": {},
     "output_type": "execute_result"
    }
   ],
   "source": [
    "geodf= pd.read_csv('Geospatial_data')\n",
    "geodf.head()"
   ]
  },
  {
   "cell_type": "code",
   "execution_count": null,
   "metadata": {},
   "outputs": [],
   "source": []
  },
  {
   "cell_type": "code",
   "execution_count": 211,
   "metadata": {},
   "outputs": [],
   "source": [
    "newdf= pd.merge(df, geodf, left_on='Postcode', right_on='Postal Code').rename(columns = {'Postcode':'PostalCode'}).drop(['Postal Code'], axis= 1) "
   ]
  },
  {
   "cell_type": "code",
   "execution_count": 212,
   "metadata": {
    "scrolled": true
   },
   "outputs": [
    {
     "data": {
      "text/html": [
       "<div>\n",
       "<style scoped>\n",
       "    .dataframe tbody tr th:only-of-type {\n",
       "        vertical-align: middle;\n",
       "    }\n",
       "\n",
       "    .dataframe tbody tr th {\n",
       "        vertical-align: top;\n",
       "    }\n",
       "\n",
       "    .dataframe thead th {\n",
       "        text-align: right;\n",
       "    }\n",
       "</style>\n",
       "<table border=\"1\" class=\"dataframe\">\n",
       "  <thead>\n",
       "    <tr style=\"text-align: right;\">\n",
       "      <th></th>\n",
       "      <th>PostalCode</th>\n",
       "      <th>Borough</th>\n",
       "      <th>Neighbourhood</th>\n",
       "      <th>Latitude</th>\n",
       "      <th>Longitude</th>\n",
       "    </tr>\n",
       "  </thead>\n",
       "  <tbody>\n",
       "    <tr>\n",
       "      <td>0</td>\n",
       "      <td>M3A</td>\n",
       "      <td>North York</td>\n",
       "      <td>Parkwoods</td>\n",
       "      <td>43.753259</td>\n",
       "      <td>-79.329656</td>\n",
       "    </tr>\n",
       "    <tr>\n",
       "      <td>1</td>\n",
       "      <td>M4A</td>\n",
       "      <td>North York</td>\n",
       "      <td>Victoria Village</td>\n",
       "      <td>43.725882</td>\n",
       "      <td>-79.315572</td>\n",
       "    </tr>\n",
       "    <tr>\n",
       "      <td>2</td>\n",
       "      <td>M5A</td>\n",
       "      <td>Downtown Toronto</td>\n",
       "      <td>Harbourfront</td>\n",
       "      <td>43.654260</td>\n",
       "      <td>-79.360636</td>\n",
       "    </tr>\n",
       "    <tr>\n",
       "      <td>3</td>\n",
       "      <td>M6A</td>\n",
       "      <td>North York</td>\n",
       "      <td>Lawrence Heights</td>\n",
       "      <td>43.718518</td>\n",
       "      <td>-79.464763</td>\n",
       "    </tr>\n",
       "    <tr>\n",
       "      <td>4</td>\n",
       "      <td>M6A</td>\n",
       "      <td>North York</td>\n",
       "      <td>Lawrence Manor</td>\n",
       "      <td>43.718518</td>\n",
       "      <td>-79.464763</td>\n",
       "    </tr>\n",
       "    <tr>\n",
       "      <td>...</td>\n",
       "      <td>...</td>\n",
       "      <td>...</td>\n",
       "      <td>...</td>\n",
       "      <td>...</td>\n",
       "      <td>...</td>\n",
       "    </tr>\n",
       "    <tr>\n",
       "      <td>205</td>\n",
       "      <td>M8Z</td>\n",
       "      <td>Etobicoke</td>\n",
       "      <td>Kingsway Park South West</td>\n",
       "      <td>43.628841</td>\n",
       "      <td>-79.520999</td>\n",
       "    </tr>\n",
       "    <tr>\n",
       "      <td>206</td>\n",
       "      <td>M8Z</td>\n",
       "      <td>Etobicoke</td>\n",
       "      <td>Mimico NW</td>\n",
       "      <td>43.628841</td>\n",
       "      <td>-79.520999</td>\n",
       "    </tr>\n",
       "    <tr>\n",
       "      <td>207</td>\n",
       "      <td>M8Z</td>\n",
       "      <td>Etobicoke</td>\n",
       "      <td>The Queensway West</td>\n",
       "      <td>43.628841</td>\n",
       "      <td>-79.520999</td>\n",
       "    </tr>\n",
       "    <tr>\n",
       "      <td>208</td>\n",
       "      <td>M8Z</td>\n",
       "      <td>Etobicoke</td>\n",
       "      <td>Royal York South West</td>\n",
       "      <td>43.628841</td>\n",
       "      <td>-79.520999</td>\n",
       "    </tr>\n",
       "    <tr>\n",
       "      <td>209</td>\n",
       "      <td>M8Z</td>\n",
       "      <td>Etobicoke</td>\n",
       "      <td>South of Bloor</td>\n",
       "      <td>43.628841</td>\n",
       "      <td>-79.520999</td>\n",
       "    </tr>\n",
       "  </tbody>\n",
       "</table>\n",
       "<p>210 rows × 5 columns</p>\n",
       "</div>"
      ],
      "text/plain": [
       "    PostalCode           Borough             Neighbourhood   Latitude  \\\n",
       "0          M3A        North York                 Parkwoods  43.753259   \n",
       "1          M4A        North York          Victoria Village  43.725882   \n",
       "2          M5A  Downtown Toronto              Harbourfront  43.654260   \n",
       "3          M6A        North York          Lawrence Heights  43.718518   \n",
       "4          M6A        North York            Lawrence Manor  43.718518   \n",
       "..         ...               ...                       ...        ...   \n",
       "205        M8Z         Etobicoke  Kingsway Park South West  43.628841   \n",
       "206        M8Z         Etobicoke                 Mimico NW  43.628841   \n",
       "207        M8Z         Etobicoke        The Queensway West  43.628841   \n",
       "208        M8Z         Etobicoke     Royal York South West  43.628841   \n",
       "209        M8Z         Etobicoke            South of Bloor  43.628841   \n",
       "\n",
       "     Longitude  \n",
       "0   -79.329656  \n",
       "1   -79.315572  \n",
       "2   -79.360636  \n",
       "3   -79.464763  \n",
       "4   -79.464763  \n",
       "..         ...  \n",
       "205 -79.520999  \n",
       "206 -79.520999  \n",
       "207 -79.520999  \n",
       "208 -79.520999  \n",
       "209 -79.520999  \n",
       "\n",
       "[210 rows x 5 columns]"
      ]
     },
     "execution_count": 212,
     "metadata": {},
     "output_type": "execute_result"
    }
   ],
   "source": [
    "newdf"
   ]
  },
  {
   "cell_type": "code",
   "execution_count": 213,
   "metadata": {},
   "outputs": [
    {
     "data": {
      "text/plain": [
       "(210, 5)"
      ]
     },
     "execution_count": 213,
     "metadata": {},
     "output_type": "execute_result"
    }
   ],
   "source": [
    "newdf.shape"
   ]
  },
  {
   "cell_type": "code",
   "execution_count": null,
   "metadata": {},
   "outputs": [],
   "source": []
  }
 ],
 "metadata": {
  "kernelspec": {
   "display_name": "Python 3.7.4 64-bit ('base': conda)",
   "language": "python",
   "name": "python37464bitbaseconda5d95dfd00f23454e9e2113a2b618d788"
  },
  "language_info": {
   "codemirror_mode": {
    "name": "ipython",
    "version": 3
   },
   "file_extension": ".py",
   "mimetype": "text/x-python",
   "name": "python",
   "nbconvert_exporter": "python",
   "pygments_lexer": "ipython3",
   "version": "3.7.4"
  }
 },
 "nbformat": 4,
 "nbformat_minor": 2
}
