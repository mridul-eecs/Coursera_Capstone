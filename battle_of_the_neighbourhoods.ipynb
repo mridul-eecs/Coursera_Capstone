{
  "nbformat": 4,
  "nbformat_minor": 0,
  "metadata": {
    "colab": {
      "name": "battle_of_the_neighbourhoods.ipynb",
      "provenance": [],
      "authorship_tag": "ABX9TyMOgkJhg7uO851qGI5DAc+s",
      "include_colab_link": true
    },
    "kernelspec": {
      "name": "python3",
      "display_name": "Python 3"
    }
  },
  "cells": [
    {
      "cell_type": "markdown",
      "metadata": {
        "id": "view-in-github",
        "colab_type": "text"
      },
      "source": [
        "<a href=\"https://colab.research.google.com/github/mridul-eecs/Coursera_Capstone/blob/master/battle_of_the_neighbourhoods.ipynb\" target=\"_parent\"><img src=\"https://colab.research.google.com/assets/colab-badge.svg\" alt=\"Open In Colab\"/></a>"
      ]
    },
    {
      "cell_type": "markdown",
      "metadata": {
        "id": "KBYPmihfXRZX",
        "colab_type": "text"
      },
      "source": [
        "# The battle of the neighborhoods\n",
        "\n",
        "Description: The case study is dedicated to finding out a place for residence which is best suited as per convineance and availability of daily needs and comfort. The case study is named as the battle of neighborhoods, because we will compare neighboring places of our workplace which is most similar to our requirements for residence.\n",
        "\n",
        "Data Source: Location data from 'foursquare'\n",
        "\n",
        "Approaches: \n",
        "- Segment the city map into clusters or blocks of neighbood.\n",
        "- Check for the nearby neighborhood for a given workplace.\n",
        "- Search for potential explainations of why a neighbourhood is better than other.\n"
      ]
    },
    {
      "cell_type": "code",
      "metadata": {
        "id": "h-r542XaXPYx",
        "colab_type": "code",
        "colab": {}
      },
      "source": [
        ""
      ],
      "execution_count": 0,
      "outputs": []
    }
  ]
}